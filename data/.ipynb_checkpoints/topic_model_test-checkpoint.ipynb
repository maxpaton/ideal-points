{
 "cells": [
  {
   "cell_type": "code",
   "execution_count": 3,
   "metadata": {},
   "outputs": [],
   "source": [
    "import pandas as pd\n",
    "import numpy as np\n",
    "import os\n",
    "import gensim\n",
    "from sklearn.feature_extraction.text import CountVectorizer\n",
    "from gensim.models.ldamodel import LdaModel"
   ]
  },
  {
   "cell_type": "code",
   "execution_count": 14,
   "metadata": {},
   "outputs": [],
   "source": [
    "out_path = '../tbip/data/covid-tweets-2020/raw/covid_tweets.csv'\n",
    "base_path = 'tweets/'\n",
    "\n",
    "ls = []\n",
    "for path, directory, file in os.walk(base_path):\n",
    "    for name in sorted(file):\n",
    "        if name.endswith('.csv'):\n",
    "            filename = os.path.join(path, name)\n",
    "            df = pd.read_csv(filename, header=0, index_col=None, engine='python')\n",
    "            ls.append(df)\n",
    "\n",
    "df = pd.concat(ls, axis=0, ignore_index=True)"
   ]
  },
  {
   "cell_type": "code",
   "execution_count": 15,
   "metadata": {},
   "outputs": [],
   "source": [
    "df = df.dropna(subset=['tweet','description'])"
   ]
  },
  {
   "cell_type": "code",
   "execution_count": 16,
   "metadata": {},
   "outputs": [],
   "source": [
    "data = list(df.description)"
   ]
  },
  {
   "cell_type": "code",
   "execution_count": 18,
   "metadata": {},
   "outputs": [],
   "source": [
    "vect = CountVectorizer(min_df=5, max_df=0.2, stop_words='english', token_pattern='(?u)\\\\b\\\\w\\\\w\\\\w+\\\\b')"
   ]
  },
  {
   "cell_type": "code",
   "execution_count": 19,
   "metadata": {},
   "outputs": [],
   "source": [
    "X = vect.fit_transform(data)"
   ]
  },
  {
   "cell_type": "code",
   "execution_count": 20,
   "metadata": {},
   "outputs": [],
   "source": [
    "sparse = gensim.matutils.Sparse2Corpus(X, documents_columns=False)\n",
    "\n",
    "id_map = dict((v,k) for k,v in vect.vocabulary_.items())"
   ]
  },
  {
   "cell_type": "code",
   "execution_count": 21,
   "metadata": {},
   "outputs": [
    {
     "data": {
      "text/plain": [
       "199410"
      ]
     },
     "execution_count": 21,
     "metadata": {},
     "output_type": "execute_result"
    }
   ],
   "source": [
    "len(data)"
   ]
  },
  {
   "cell_type": "code",
   "execution_count": 22,
   "metadata": {},
   "outputs": [],
   "source": [
    "lda_model = LdaModel(sparse, num_topics=5, id2word=id_map, passes=25, random_state=42)"
   ]
  },
  {
   "cell_type": "code",
   "execution_count": 23,
   "metadata": {},
   "outputs": [
    {
     "data": {
      "text/plain": [
       "[(0,\n",
       "  '0.026*\"trump\" + 0.026*\"maga\" + 0.015*\"god\" + 0.015*\"proud\" + 0.014*\"love\" + 0.013*\"mom\" + 0.013*\"retired\" + 0.012*\"conservative\" + 0.011*\"kag\" + 0.011*\"wife\"'),\n",
       " (1,\n",
       "  '0.018*\"love\" + 0.017*\"resist\" + 0.014*\"life\" + 0.012*\"people\" + 0.011*\"just\" + 0.011*\"don\" + 0.009*\"blm\" + 0.009*\"like\" + 0.008*\"good\" + 0.007*\"lover\"'),\n",
       " (2,\n",
       "  '0.031*\"fan\" + 0.015*\"account\" + 0.010*\"tweets\" + 0.008*\"endorsement\" + 0.007*\"views\" + 0.007*\"sports\" + 0.007*\"music\" + 0.007*\"retweets\" + 0.007*\"endorsements\" + 0.007*\"com\"'),\n",
       " (3,\n",
       "  '0.029*\"news\" + 0.016*\"https\" + 0.013*\"follow\" + 0.011*\"world\" + 0.010*\"politics\" + 0.006*\"business\" + 0.005*\"artist\" + 0.005*\"like\" + 0.004*\"just\" + 0.004*\"tweet\"'),\n",
       " (4,\n",
       "  '0.024*\"https\" + 0.017*\"writer\" + 0.010*\"health\" + 0.008*\"author\" + 0.007*\"science\" + 0.007*\"social\" + 0.007*\"matter\" + 0.006*\"black\" + 0.006*\"lives\" + 0.006*\"student\"')]"
      ]
     },
     "execution_count": 23,
     "metadata": {},
     "output_type": "execute_result"
    }
   ],
   "source": [
    "lda_model.show_topics(num_topics=5, num_words=10)"
   ]
  },
  {
   "cell_type": "code",
   "execution_count": null,
   "metadata": {},
   "outputs": [],
   "source": []
  },
  {
   "cell_type": "code",
   "execution_count": null,
   "metadata": {},
   "outputs": [],
   "source": []
  },
  {
   "cell_type": "code",
   "execution_count": null,
   "metadata": {},
   "outputs": [],
   "source": []
  },
  {
   "cell_type": "code",
   "execution_count": 80,
   "metadata": {},
   "outputs": [],
   "source": [
    "arr = np.load('/Users/maxpaton/python/ideal_points/tbip/data/candidate-tweets-2020/clean/counts.npz')"
   ]
  },
  {
   "cell_type": "code",
   "execution_count": 85,
   "metadata": {},
   "outputs": [
    {
     "data": {
      "text/plain": [
       "['indices', 'indptr', 'format', 'shape', 'data']"
      ]
     },
     "execution_count": 85,
     "metadata": {},
     "output_type": "execute_result"
    }
   ],
   "source": [
    "arr.files"
   ]
  },
  {
   "cell_type": "code",
   "execution_count": 101,
   "metadata": {},
   "outputs": [
    {
     "data": {
      "text/plain": [
       "array([45927,  6409])"
      ]
     },
     "execution_count": 101,
     "metadata": {},
     "output_type": "execute_result"
    }
   ],
   "source": [
    "arr['shape']"
   ]
  },
  {
   "cell_type": "code",
   "execution_count": null,
   "metadata": {},
   "outputs": [],
   "source": []
  }
 ],
 "metadata": {
  "kernelspec": {
   "display_name": "Python 3",
   "language": "python",
   "name": "python3"
  },
  "language_info": {
   "codemirror_mode": {
    "name": "ipython",
    "version": 3
   },
   "file_extension": ".py",
   "mimetype": "text/x-python",
   "name": "python",
   "nbconvert_exporter": "python",
   "pygments_lexer": "ipython3",
   "version": "3.6.10"
  },
  "varInspector": {
   "cols": {
    "lenName": 16,
    "lenType": 16,
    "lenVar": 40
   },
   "kernels_config": {
    "python": {
     "delete_cmd_postfix": "",
     "delete_cmd_prefix": "del ",
     "library": "var_list.py",
     "varRefreshCmd": "print(var_dic_list())"
    },
    "r": {
     "delete_cmd_postfix": ") ",
     "delete_cmd_prefix": "rm(",
     "library": "var_list.r",
     "varRefreshCmd": "cat(var_dic_list()) "
    }
   },
   "types_to_exclude": [
    "module",
    "function",
    "builtin_function_or_method",
    "instance",
    "_Feature"
   ],
   "window_display": false
  }
 },
 "nbformat": 4,
 "nbformat_minor": 4
}
